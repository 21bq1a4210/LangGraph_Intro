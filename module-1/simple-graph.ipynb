{
 "cells": [
  {
   "cell_type": "markdown",
   "id": "8d5f3703",
   "metadata": {},
   "source": [
    "[![Open in Colab](https://colab.research.google.com/assets/colab-badge.svg)](https://colab.research.google.com/github/langchain-ai/langchain-academy/blob/main/module-1/simple-graph.ipynb) [![Open in LangChain Academy](https://cdn.prod.website-files.com/65b8cd72835ceeacd4449a53/66e9eba12c7b7688aa3dbb5e_LCA-badge-green.svg)](https://academy.langchain.com/courses/take/intro-to-langgraph/lessons/58238187-lesson-2-simple-graph)"
   ]
  },
  {
   "attachments": {},
   "cell_type": "markdown",
   "id": "50fa7f8a-8764-4bb9-9968-48b681a0e4f1",
   "metadata": {},
   "source": [
    "# The Simplest Graph\n",
    "\n",
    "Let's build a simple graph with 3 nodes and one conditional edge. \n",
    "\n",
    "![Screenshot 2024-08-20 at 3.11.22 PM.png](https://cdn.prod.website-files.com/65b8cd72835ceeacd4449a53/66dba5f465f6e9a2482ad935_simple-graph1.png)"
   ]
  },
  {
   "cell_type": "code",
   "execution_count": 1,
   "id": "ff151ef1-fa30-482a-94da-8f49964afbc3",
   "metadata": {},
   "outputs": [
    {
     "name": "stderr",
     "output_type": "stream",
     "text": [
      "WARNING: There was an error checking the latest version of pip.\n"
     ]
    }
   ],
   "source": [
    "%%capture --no-stderr\n",
    "%pip install --quiet -U langgraph"
   ]
  },
  {
   "cell_type": "markdown",
   "id": "5999f8d0-989f-4638-8ade-5c257cbadfe8",
   "metadata": {},
   "source": [
    "## State\n",
    "\n",
    "First, define the [State](https://langchain-ai.github.io/langgraph/concepts/low_level/#state) of the graph. \n",
    "\n",
    "The State schema serves as the input schema for all Nodes and Edges in the graph.\n",
    "\n",
    "Let's use the `TypedDict` class from python's `typing` module as our schema, which provides type hints for the keys."
   ]
  },
  {
   "cell_type": "code",
   "execution_count": 2,
   "id": "6a90709b-ddfa-4671-8acc-c59969a29991",
   "metadata": {},
   "outputs": [],
   "source": [
    "from typing_extensions import TypedDict\n",
    "\n",
    "class State(TypedDict):\n",
    "    graph_state: str"
   ]
  },
  {
   "cell_type": "markdown",
   "id": "888509e1-cbde-4c03-99a0-2560dd2e262d",
   "metadata": {},
   "source": [
    "## Nodes\n",
    "\n",
    "[Nodes](https://langchain-ai.github.io/langgraph/concepts/low_level/#nodes) are just python functions.\n",
    "\n",
    "The first positional argument is the state, as defined above.\n",
    "\n",
    "Because the state is a `TypedDict` with schema as defined above, each node can access the key, `graph_state`, with `state['graph_state']`.\n",
    "\n",
    "Each node returns a new value of the state key `graph_state`.\n",
    "  \n",
    "By default, the new value returned by each node [will override](https://langchain-ai.github.io/langgraph/concepts/low_level/#reducers) the prior state value."
   ]
  },
  {
   "cell_type": "code",
   "execution_count": 3,
   "id": "e8aabcb7-494c-4d35-be08-f81c76d75a6b",
   "metadata": {},
   "outputs": [],
   "source": [
    "def node_1(state):\n",
    "    print(\"---Node 1---\")\n",
    "    return {\"graph_state\": state['graph_state'] +\" I am\"}\n",
    "\n",
    "def node_2(state):\n",
    "    print(\"---Node 2---\")\n",
    "    return {\"graph_state\": state['graph_state'] +\" happy!\"}\n",
    "\n",
    "def node_3(state):\n",
    "    print(\"---Node 3---\")\n",
    "    return {\"graph_state\": state['graph_state'] +\" sad!\"}"
   ]
  },
  {
   "cell_type": "markdown",
   "id": "ad056608-8c8f-4999-bb53-10583efa4ed8",
   "metadata": {},
   "source": [
    "## Edges\n",
    "\n",
    "[Edges](https://langchain-ai.github.io/langgraph/concepts/low_level/#edges) connect the nodes.\n",
    "\n",
    "Normal Edges are used if you want to *always* go from, for example, `node_1` to `node_2`.\n",
    "\n",
    "[Conditional Edges](https://langchain-ai.github.io/langgraph/concepts/low_level/#conditional-edges) are used if you want to *optionally* route between nodes.\n",
    " \n",
    "Conditional edges are implemented as functions that return the next node to visit based upon some logic."
   ]
  },
  {
   "cell_type": "code",
   "execution_count": 4,
   "id": "7e53543a-902a-4d41-ad3d-25eee260e819",
   "metadata": {},
   "outputs": [],
   "source": [
    "import random\n",
    "from typing import Literal\n",
    "\n",
    "def decide_mood(state) -> Literal[\"node_2\", \"node_3\"]:\n",
    "    \n",
    "    # Often, we will use state to decide on the next node to visit\n",
    "    user_input = state['graph_state'] \n",
    "    \n",
    "    # Here, let's just do a 50 / 50 split between nodes 2, 3\n",
    "    if random.random() < 0.5:\n",
    "\n",
    "        # 50% of the time, we return Node 2\n",
    "        return \"node_2\"\n",
    "    \n",
    "    # 50% of the time, we return Node 3\n",
    "    return \"node_3\""
   ]
  },
  {
   "cell_type": "markdown",
   "id": "9282ea7a-5ed2-4641-bed8-c3472d54c951",
   "metadata": {},
   "source": [
    "## Graph Construction\n",
    "\n",
    "Now, we build the graph from our [components](\n",
    "https://langchain-ai.github.io/langgraph/concepts/low_level/) defined above.\n",
    "\n",
    "The [StateGraph class](https://langchain-ai.github.io/langgraph/concepts/low_level/#stategraph) is the graph class that we can use.\n",
    " \n",
    "First, we initialize a StateGraph with the `State` class we defined above.\n",
    " \n",
    "Then, we add our nodes and edges.\n",
    "\n",
    "We use the [`START` Node, a special node](https://langchain-ai.github.io/langgraph/concepts/low_level/#start-node) that sends user input to the graph, to indicate where to start our graph.\n",
    " \n",
    "The [`END` Node](https://langchain-ai.github.io/langgraph/concepts/low_level/#end-node) is a special node that represents a terminal node. \n",
    "\n",
    "Finally, we [compile our graph](https://langchain-ai.github.io/langgraph/concepts/low_level/#compiling-your-graph) to perform a few basic checks on the graph structure. \n",
    "\n",
    "We can visualize the graph as a [Mermaid diagram](https://github.com/mermaid-js/mermaid)."
   ]
  },
  {
   "cell_type": "code",
   "execution_count": 5,
   "id": "7deb0359-55c1-4545-b52e-8252994befbb",
   "metadata": {},
   "outputs": [
    {
     "data": {
      "image/png": "[encoded data removed]",
      "text/plain": [
       "<IPython.core.display.Image object>"
      ]
     },
     "metadata": {},
     "output_type": "display_data"
    }
   ],
   "source": [
    "from IPython.display import Image, display\n",
    "from langgraph.graph import StateGraph, START, END\n",
    "\n",
    "# Build graph\n",
    "builder = StateGraph(State)\n",
    "builder.add_node(\"node_1\", node_1)\n",
    "builder.add_node(\"node_2\", node_2)\n",
    "builder.add_node(\"node_3\", node_3)\n",
    "\n",
    "# Logic\n",
    "builder.add_edge(START, \"node_1\")\n",
    "builder.add_conditional_edges(\"node_1\", decide_mood)\n",
    "builder.add_edge(\"node_2\", END)\n",
    "builder.add_edge(\"node_3\", END)\n",
    "\n",
    "# Add\n",
    "graph = builder.compile()\n",
    "\n",
    "# View\n",
    "display(Image(graph.get_graph().draw_mermaid_png()))"
   ]
  },
  {
   "cell_type": "markdown",
   "id": "00617c74-2647-44ea-8a2e-310dd96c0d26",
   "metadata": {},
   "source": [
    "## Graph Invocation\n",
    "\n",
    "The compiled graph implements the [runnable](https://python.langchain.com/docs/concepts/runnables/) protocol.\n",
    "\n",
    "This provides a standard way to execute LangChain components. \n",
    " \n",
    "`invoke` is one of the standard methods in this interface.\n",
    "\n",
    "The input is a dictionary `{\"graph_state\": \"Hi, this is lance.\"}`, which sets the initial value for our graph state dict.\n",
    "\n",
    "When `invoke` is called, the graph starts execution from the `START` node.\n",
    "\n",
    "It progresses through the defined nodes (`node_1`, `node_2`, `node_3`) in order.\n",
    "\n",
    "The conditional edge will traverse from node `1` to node `2` or `3` using a 50/50 decision rule. \n",
    "\n",
    "Each node function receives the current state and returns a new value, which overrides the graph state.\n",
    "\n",
    "The execution continues until it reaches the `END` node."
   ]
  },
  {
   "cell_type": "code",
   "execution_count": 12,
   "id": "e895f17a-e835-4e8a-8e1b-63fe6d27cc52",
   "metadata": {},
   "outputs": [
    {
     "name": "stdout",
     "output_type": "stream",
     "text": [
      "---Node 1---\n",
      "---Node 3---\n"
     ]
    },
    {
     "data": {
      "text/plain": [
       "{'graph_state': 'Hi, this is Lance. I am sad!'}"
      ]
     },
     "execution_count": 12,
     "metadata": {},
     "output_type": "execute_result"
    }
   ],
   "source": [
    "graph.invoke({\"graph_state\" : \"Hi, this is Lance.\"})"
   ]
  },
  {
   "cell_type": "markdown",
   "id": "082399c3-18bd-4b67-97c1-2005f268abc5",
   "metadata": {},
   "source": [
    "`invoke` runs the entire graph synchronously.\n",
    "\n",
    "This waits for each step to complete before moving to the next.\n",
    "\n",
    "It returns the final state of the graph after all nodes have executed.\n",
    "\n",
    "In this case, it returns the state after `node_3` has completed: \n",
    "\n",
    "```\n",
    "{'graph_state': 'Hi, this is Lance. I am sad!'}\n",
    "```"
   ]
  },
  {
   "cell_type": "markdown",
   "id": "7b621589-fae1-44b1-b476-9e982a6762ed",
   "metadata": {},
   "source": [
    "# My exaples"
   ]
  },
  {
   "cell_type": "code",
   "execution_count": 26,
   "id": "85fea84c-a351-45ca-a688-fd41b0a3ce90",
   "metadata": {},
   "outputs": [
    {
     "data": {
      "image/png": "[encoded data removed]",
      "text/plain": [
       "<IPython.core.display.Image object>"
      ]
     },
     "metadata": {},
     "output_type": "display_data"
    },
    {
     "data": {
      "text/plain": [
       "{'graph_output': 'I name is Lance'}"
      ]
     },
     "execution_count": 26,
     "metadata": {},
     "output_type": "execute_result"
    }
   ],
   "source": [
    "class InputState(TypedDict):\n",
    "    user_input: str\n",
    "\n",
    "class OutputState(TypedDict):\n",
    "    graph_output: str\n",
    "\n",
    "class OverallState(TypedDict):\n",
    "    foo: str\n",
    "    user_input: str\n",
    "    graph_output: str\n",
    "\n",
    "class PrivateState(TypedDict):\n",
    "    bar: str\n",
    "\n",
    "def node_1(state: InputState) -> OverallState:\n",
    "    # Write to OverallState\n",
    "    return {\"foo\": state[\"user_input\"] + \" name\"}\n",
    "\n",
    "def node_2(state: OverallState) -> PrivateState:\n",
    "    # Read from OverallState, write to PrivateState\n",
    "    return {\"bar\": state[\"foo\"] + \" is\"}\n",
    "\n",
    "def node_3(state: PrivateState) -> OutputState:\n",
    "    # Read from PrivateState, write to OutputState\n",
    "    return {\"graph_output\": state[\"bar\"] + \" Lance\"}\n",
    "\n",
    "builder = StateGraph(OverallState,input=InputState,output=OutputState)\n",
    "builder.add_node(\"node_1\", node_1)\n",
    "builder.add_node(\"node_2\", node_2)\n",
    "builder.add_node(\"node_3\", node_3)\n",
    "builder.add_edge(START, \"node_1\")\n",
    "builder.add_edge(\"node_1\", \"node_2\")\n",
    "builder.add_edge(\"node_2\", \"node_3\")\n",
    "builder.add_edge(\"node_3\", END)\n",
    "\n",
    "graph = builder.compile()\n",
    "\n",
    "display(Image(graph.get_graph().draw_mermaid_png()))\n",
    "\n",
    "\n",
    "graph.invoke({\"user_input\":\"I\"})\n",
    "# {'graph_output': 'My name is Lance'}"
   ]
  },
  {
   "cell_type": "code",
   "execution_count": 27,
   "id": "12adf52f-bae4-4621-8f65-e41d31fe8aaa",
   "metadata": {},
   "outputs": [
    {
     "data": {
      "text/plain": [
       "Ellipsis"
      ]
     },
     "execution_count": 27,
     "metadata": {},
     "output_type": "execute_result"
    }
   ],
   "source": [
    "from langchain_core.runnables import RunnableConfig\n",
    "from langgraph.graph import StateGraph\n",
    "\n",
    "builder = StateGraph(dict)\n",
    "\n",
    "\n",
    "def my_node(state: dict, config: RunnableConfig):\n",
    "    print(\"In node: \", config[\"configurable\"][\"user_id\"])\n",
    "    return {\"results\": f\"Hello, {state['input']}!\"}\n",
    "\n",
    "\n",
    "# The second argument is optional\n",
    "def my_other_node(state: dict):\n",
    "    return state\n",
    "\n",
    "\n",
    "builder.add_node(\"my_node\", my_node)\n",
    "builder.add_node(\"other_node\", my_other_node)\n",
    "..."
   ]
  },
  {
   "cell_type": "markdown",
   "id": "3f794ba0-dae7-4160-923a-472e7d8386d3",
   "metadata": {},
   "source": [
    "## 1. calculator"
   ]
  },
  {
   "cell_type": "markdown",
   "id": "de5f7c57-3041-4037-b3de-8ed6d8f8d47c",
   "metadata": {},
   "source": [
    "### a"
   ]
  },
  {
   "cell_type": "code",
   "execution_count": 42,
   "id": "d1973bc7-d447-4a30-9170-b87e7714d769",
   "metadata": {},
   "outputs": [
    {
     "data": {
      "image/png": "[encoded data removed]",
      "text/plain": [
       "<IPython.core.display.Image object>"
      ]
     },
     "metadata": {},
     "output_type": "display_data"
    },
    {
     "name": "stdout",
     "output_type": "stream",
     "text": [
      "---Node 1 (ADD)---\n",
      "the sum of 3, 5: 8\n",
      "---Node 2 (SUB)---\n",
      "the difference of 3, 5: -2\n",
      "---Node 3 (MUL)---\n",
      "the multiplication of 3, 5: 15\n",
      "---Node 4 (DIV)---\n",
      "the division of 10, 2: 5.0\n",
      "---Node 5 (ERROR)---\n",
      "Unable to process the expression.\n"
     ]
    }
   ],
   "source": [
    "from langgraph.graph import StateGraph, START, END\n",
    "from typing_extensions import TypedDict\n",
    "from IPython.display import display, Image\n",
    "\n",
    "class State(TypedDict, total=False):\n",
    "    graph_state: str\n",
    "    next_node: str\n",
    "\n",
    "def add(state):\n",
    "    print(\"---Node 1 (ADD)---\")\n",
    "    try:\n",
    "        val1, val2 = state['graph_state'].split(' + ')\n",
    "        return {\"graph_state\": f\"the sum of {val1}, {val2}: {int(val1) + int(val2)}\"}\n",
    "    except:\n",
    "        return {\"graph_state\": state[\"graph_state\"], \"next_node\": \"err\"}\n",
    "\n",
    "def sub(state):\n",
    "    print(\"---Node 2 (SUB)---\")\n",
    "    try:\n",
    "        val1, val2 = state['graph_state'].split(' - ')\n",
    "        return {\"graph_state\": f\"the difference of {val1}, {val2}: {int(val1) - int(val2)}\"}\n",
    "    except:\n",
    "        return {\"graph_state\": state[\"graph_state\"], \"next_node\": \"err\"}\n",
    "\n",
    "def mul(state):\n",
    "    print(\"---Node 3 (MUL)---\")\n",
    "    try:\n",
    "        val1, val2 = state['graph_state'].split(' * ')\n",
    "        return {\"graph_state\": f\"the multiplication of {val1}, {val2}: {int(val1) * int(val2)}\"}\n",
    "    except:\n",
    "        return {\"graph_state\": state[\"graph_state\"], \"next_node\": \"err\"}\n",
    "\n",
    "def div(state):\n",
    "    print(\"---Node 4 (DIV)---\")\n",
    "    try:\n",
    "        val1, val2 = state['graph_state'].split(' / ')\n",
    "        return {\"graph_state\": f\"the division of {val1}, {val2}: {int(val1) / int(val2)}\"}\n",
    "    except:\n",
    "        return {\"graph_state\": state[\"graph_state\"], \"next_node\": \"err\"}\n",
    "\n",
    "def err(state):\n",
    "    print(\"---Node 5 (ERROR)---\")\n",
    "    return {\"graph_state\": \"Unable to process the expression.\"}\n",
    "\n",
    "def decide_mood(state):\n",
    "    user_input = state['graph_state']\n",
    "    if '+' in user_input:\n",
    "        return {\"graph_state\": user_input, \"next_node\": \"add\"}\n",
    "    elif '-' in user_input:\n",
    "        return {\"graph_state\": user_input, \"next_node\": \"sub\"}\n",
    "    elif '*' in user_input:\n",
    "        return {\"graph_state\": user_input, \"next_node\": \"mul\"}\n",
    "    elif '/' in user_input:\n",
    "        return {\"graph_state\": user_input, \"next_node\": \"div\"}\n",
    "    else:\n",
    "        return {\"graph_state\": user_input, \"next_node\": \"err\"}\n",
    "\n",
    "def router(state):\n",
    "    return state[\"next_node\"]\n",
    "\n",
    "# Build the graph\n",
    "builder = StateGraph(State)\n",
    "\n",
    "builder.add_node(\"decide_mood\", decide_mood)\n",
    "builder.add_node(\"add\", add)\n",
    "builder.add_node(\"sub\", sub)\n",
    "builder.add_node(\"mul\", mul)\n",
    "builder.add_node(\"div\", div)\n",
    "builder.add_node(\"err\", err)\n",
    "\n",
    "builder.add_edge(START, \"decide_mood\")\n",
    "builder.add_conditional_edges(\"decide_mood\", router)\n",
    "builder.add_edge(\"add\", END)\n",
    "builder.add_edge(\"sub\", END)\n",
    "builder.add_edge(\"mul\", END)\n",
    "builder.add_edge(\"div\", END)\n",
    "builder.add_edge(\"err\", END)\n",
    "\n",
    "graph = builder.compile()\n",
    "\n",
    "# Visualize the graph\n",
    "display(Image(graph.get_graph().draw_mermaid_png()))\n",
    "\n",
    "# Run with valid and invalid input\n",
    "print(graph.invoke({\"graph_state\": \"3 + 5\"})[\"graph_state\"])\n",
    "print(graph.invoke({\"graph_state\": \"3 - 5\"})[\"graph_state\"])\n",
    "print(graph.invoke({\"graph_state\": \"3 * 5\"})[\"graph_state\"])\n",
    "print(graph.invoke({\"graph_state\": \"10 / 2\"})[\"graph_state\"])\n",
    "print(graph.invoke({\"graph_state\": \"7 9\"})[\"graph_state\"])  # Invalid input\n"
   ]
  },
  {
   "cell_type": "markdown",
   "id": "b50cf028-c09d-48e8-abb9-4ab42028a3e8",
   "metadata": {},
   "source": [
    "### b"
   ]
  },
  {
   "cell_type": "code",
   "execution_count": 58,
   "id": "d4405b7f-e286-4002-90a6-6429fb9ab8c4",
   "metadata": {},
   "outputs": [
    {
     "data": {
      "image/png": "[encoded data removed]",
      "text/plain": [
       "<IPython.core.display.Image object>"
      ]
     },
     "metadata": {},
     "output_type": "display_data"
    },
    {
     "name": "stdout",
     "output_type": "stream",
     "text": [
      "5.0\n"
     ]
    }
   ],
   "source": [
    "from typing import TypedDict, Union\n",
    "from langgraph.graph import StateGraph, START, END\n",
    "\n",
    "# 1) Define your shared State\n",
    "class State(TypedDict, total=False):\n",
    "    user_input: str\n",
    "    operation: str\n",
    "    result: Union[int, str]\n",
    "\n",
    "# 2) Nodes\n",
    "\n",
    "def input_node(state: State) -> State:\n",
    "    # In real use you'd accept dynamic input; here we hard‑code for demo\n",
    "    state[\"user_input\"] = \"10 / 2\"\n",
    "    return state\n",
    "\n",
    "def decision_node(state: State) -> State:\n",
    "    ui = state[\"user_input\"]\n",
    "    if \"+\" in ui:\n",
    "        state[\"operation\"] = \"addition\"\n",
    "    elif \"-\" in ui:\n",
    "        state[\"operation\"] = \"subtraction\"\n",
    "    elif \"*\" in ui:\n",
    "        state[\"operation\"] = \"multiplication\"\n",
    "    elif \"/\" in ui:\n",
    "        state[\"operation\"] = \"division\"\n",
    "    else:\n",
    "        state[\"operation\"] = \"error\"\n",
    "    return state\n",
    "\n",
    "def router(state: State) -> str:\n",
    "    # returns the name of the next node\n",
    "    return state[\"operation\"]\n",
    "\n",
    "def addition(state: State) -> State:\n",
    "    a, b = map(int, state[\"user_input\"].split(\" + \"))\n",
    "    state[\"result\"] = a + b\n",
    "    return state\n",
    "\n",
    "def subtraction(state: State) -> State:\n",
    "    a, b = map(int, state[\"user_input\"].split(\" - \"))\n",
    "    state[\"result\"] = a - b\n",
    "    return state\n",
    "\n",
    "def multiplication(state: State) -> State:\n",
    "    a, b = map(int, state[\"user_input\"].split(\" * \"))\n",
    "    state[\"result\"] = a * b\n",
    "    return state\n",
    "\n",
    "def division(state: State) -> State:\n",
    "    a, b = map(int, state[\"user_input\"].split(\" / \"))\n",
    "    state[\"result\"] = \"Error: div by zero\" if b == 0 else a / b\n",
    "    return state\n",
    "\n",
    "def error(state: State) -> State:\n",
    "    state[\"result\"] = \"Invalid operation\"\n",
    "    return state\n",
    "\n",
    "# 3) Build the graph\n",
    "\n",
    "builder = StateGraph(State)\n",
    "\n",
    "# register nodes\n",
    "builder.add_node(\"input_node\", input_node)\n",
    "builder.add_node(\"decision_node\", decision_node)\n",
    "builder.add_node(\"addition\", addition)\n",
    "builder.add_node(\"subtraction\", subtraction)\n",
    "builder.add_node(\"multiplication\", multiplication)\n",
    "builder.add_node(\"division\", division)\n",
    "builder.add_node(\"error\", error)\n",
    "\n",
    "# wire up edges\n",
    "builder.add_edge(START, \"input_node\")\n",
    "builder.add_edge(\"input_node\", \"decision_node\")\n",
    "\n",
    "# conditional routing\n",
    "builder.add_conditional_edges(\"decision_node\", router)\n",
    "\n",
    "# terminal edges\n",
    "builder.add_edge(\"addition\", END)\n",
    "builder.add_edge(\"subtraction\", END)\n",
    "builder.add_edge(\"multiplication\", END)\n",
    "builder.add_edge(\"division\", END)\n",
    "builder.add_edge(\"error\", END)\n",
    "\n",
    "# compile & run\n",
    "graph = builder.compile()\n",
    "\n",
    "# Visualize the graph\n",
    "display(Image(graph.get_graph().draw_mermaid_png()))\n",
    "\n",
    "output = graph.invoke({})  # no initial state needed; input_node sets it\n",
    "print(output[\"result\"])    # → 5.0\n"
   ]
  },
  {
   "cell_type": "markdown",
   "id": "5ae16beb-1bcc-424d-af0b-7c588e0c586d",
   "metadata": {},
   "source": [
    "## 2. AREA\n"
   ]
  },
  {
   "cell_type": "code",
   "execution_count": 54,
   "id": "74317c23-229e-48e5-a0b8-c618ba8f2584",
   "metadata": {},
   "outputs": [
    {
     "data": {
      "image/png": "[encoded data removed]",
      "text/plain": [
       "<IPython.core.display.Image object>"
      ]
     },
     "metadata": {},
     "output_type": "display_data"
    },
    {
     "name": "stdout",
     "output_type": "stream",
     "text": [
      "Area of the circle with radius 5: 78.53975\n",
      "Area of the rectangle with length 4 and width 6: 24\n",
      "Area of the triangle with height 4 and width 10: 20.0\n"
     ]
    },
    {
     "data": {
      "text/plain": [
       "{'shape': 'triangle', 'width': 10, 'height': 4}"
      ]
     },
     "execution_count": 54,
     "metadata": {},
     "output_type": "execute_result"
    }
   ],
   "source": [
    "from typing_extensions import TypedDict\n",
    "from langgraph.graph import StateGraph, START, END\n",
    "from IPython.display import display, Image\n",
    "\n",
    "# Define the state with optional fields for different shapes\n",
    "class State(TypedDict, total=False):\n",
    "    shape: str\n",
    "    radius: float\n",
    "    length: float\n",
    "    width: float\n",
    "    height: float\n",
    "\n",
    "# Function to determine the shape and store its dimensions in the state\n",
    "def determine_shape(state: State) -> State:\n",
    "    user_input = state.get(\"shape\", \"\").lower()\n",
    "    if user_input == \"circle\":\n",
    "        return {\"shape\": \"circle\", \"radius\": state.get(\"radius\")}\n",
    "    elif user_input == \"rectangle\":\n",
    "        return {\"shape\": \"rectangle\", \"length\": state.get(\"length\"), \"width\": state.get(\"width\")}\n",
    "    elif user_input == \"triangle\":\n",
    "        return {\"shape\": \"triangle\", \"height\": state.get(\"height\"), \"width\": state.get(\"width\")}\n",
    "    else:\n",
    "        return {\"shape\": \"unknown\"}\n",
    "\n",
    "# Function to calculate the area of a circle\n",
    "def calculate_circle_area(state: State) -> State:\n",
    "    radius = state.get(\"radius\")\n",
    "    if radius is not None:\n",
    "        area = 3.14159 * radius ** 2\n",
    "        print(f\"Area of the circle with radius {radius}: {area}\")\n",
    "        return {\"shape\": \"circle\", \"radius\": radius}\n",
    "    else:\n",
    "        print(\"Invalid input for circle.\")\n",
    "        return {\"shape\": \"error\"}\n",
    "\n",
    "# Function to calculate the area of a rectangle\n",
    "def calculate_rectangle_area(state: State) -> State:\n",
    "    length = state.get(\"length\")\n",
    "    width = state.get(\"width\")\n",
    "    if length is not None and width is not None:\n",
    "        area = length * width\n",
    "        print(f\"Area of the rectangle with length {length} and width {width}: {area}\")\n",
    "        return {\"shape\": \"rectangle\", \"length\": length, \"width\": width}\n",
    "    else:\n",
    "        print(\"Invalid input for rectangle.\")\n",
    "        return {\"shape\": \"error\"}\n",
    "\n",
    "# Function to calculate the area of a triangle\n",
    "def calculate_triangle_area(state: State) -> State:\n",
    "    height = state.get(\"height\")\n",
    "    width = state.get(\"width\")\n",
    "    if height is not None and width is not None:\n",
    "        area = 0.5 * height * width\n",
    "        print(f\"Area of the triangle with height {height} and width {width}: {area}\")\n",
    "        return {\"shape\": \"triangle\", \"height\": height, \"width\": width}\n",
    "    else:\n",
    "        print(\"Invalid input for triangle.\")\n",
    "        return {\"shape\": \"error\"}\n",
    "\n",
    "# Router function to direct to the appropriate calculation function\n",
    "def router(state: State) -> str:\n",
    "    shape = state.get(\"shape\")\n",
    "    if shape == \"circle\":\n",
    "        return \"calculate_circle_area\"\n",
    "    elif shape == \"rectangle\":\n",
    "        return \"calculate_rectangle_area\"\n",
    "    elif shape == \"triangle\":\n",
    "        return \"calculate_triangle_area\"\n",
    "    else:\n",
    "        return \"error\"\n",
    "\n",
    "# Build the graph\n",
    "builder = StateGraph(State)\n",
    "builder.add_node(\"determine_shape\", determine_shape)\n",
    "builder.add_node(\"calculate_circle_area\", calculate_circle_area)\n",
    "builder.add_node(\"calculate_rectangle_area\", calculate_rectangle_area)\n",
    "builder.add_node(\"calculate_triangle_area\", calculate_triangle_area)\n",
    "builder.add_node(\"error\", lambda state: print(\"Error: Unknown shape or invalid dimensions.\"))\n",
    "\n",
    "# Define the graph flow\n",
    "builder.add_edge(START, \"determine_shape\")\n",
    "builder.add_conditional_edges(\"determine_shape\", router)\n",
    "builder.add_edge(\"calculate_circle_area\", END)\n",
    "builder.add_edge(\"calculate_rectangle_area\", END)\n",
    "builder.add_edge(\"calculate_triangle_area\", END)\n",
    "builder.add_edge(\"error\", END)\n",
    "\n",
    "# Compile the graph\n",
    "graph = builder.compile()\n",
    "\n",
    "# Visualize the graph\n",
    "display(Image(graph.get_graph().draw_mermaid_png()))\n",
    "\n",
    "# Example invocation\n",
    "# For a circle with radius 5\n",
    "graph.invoke({\"shape\": \"circle\", \"radius\": 5})\n",
    "\n",
    "# For a rectangle with length 4 and width 6\n",
    "graph.invoke({\"shape\": \"rectangle\", \"length\": 4, \"width\": 6})\n",
    "\n",
    "# For a triangle with height 4 and width 10\n",
    "graph.invoke({\"shape\": \"triangle\", \"height\": 4, \"width\": 10})\n"
   ]
  },
  {
   "cell_type": "code",
   "execution_count": null,
   "id": "2a57df00-9bac-47c8-bf46-756edb6d7105",
   "metadata": {},
   "outputs": [],
   "source": []
  }
 ],
 "metadata": {
  "kernelspec": {
   "display_name": "Python 3 (ipykernel)",
   "language": "python",
   "name": "python3"
  },
  "language_info": {
   "codemirror_mode": {
    "name": "ipython",
    "version": 3
   },
   "file_extension": ".py",
   "mimetype": "text/x-python",
   "name": "python",
   "nbconvert_exporter": "python",
   "pygments_lexer": "ipython3",
   "version": "3.11.0"
  }
 },
 "nbformat": 4,
 "nbformat_minor": 5
}
